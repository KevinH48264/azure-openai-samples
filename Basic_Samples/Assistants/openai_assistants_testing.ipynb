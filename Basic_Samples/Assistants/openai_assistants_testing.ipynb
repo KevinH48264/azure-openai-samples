{
 "cells": [
  {
   "cell_type": "code",
   "execution_count": 141,
   "metadata": {},
   "outputs": [],
   "source": [
    "import openai\n",
    "import os\n",
    "from openai import OpenAI\n",
    "import time\n",
    "import json\n",
    "from dotenv import load_dotenv\n",
    "load_dotenv()"
   ]
  },
  {
   "cell_type": "code",
   "execution_count": 2,
   "metadata": {},
   "outputs": [],
   "source": [
    "openai.api_key = os.getenv(\"OPENAI_API_KEY\")\n",
    "client = OpenAI(api_key=openai.api_key)\n",
    "model = \"gpt-3.5-turbo-1106\""
   ]
  },
  {
   "cell_type": "markdown",
   "metadata": {},
   "source": [
    "# Assistants API with Code Interpreter\n",
    "Following docs here: https://platform.openai.com/docs/assistants/tools"
   ]
  },
  {
   "cell_type": "code",
   "execution_count": 3,
   "metadata": {},
   "outputs": [],
   "source": [
    "# Create an assistant with Code Interpreter\n",
    "assistant = client.beta.assistants.create(\n",
    "    name=\"Math Tutor\",\n",
    "    instructions=\"You are a personal math tutor. Write and run code to answer math questions.\",\n",
    "    tools=[{\"type\": \"code_interpreter\"}],\n",
    "    model=\"gpt-4-1106-preview\"\n",
    ")"
   ]
  },
  {
   "cell_type": "code",
   "execution_count": 4,
   "metadata": {},
   "outputs": [],
   "source": [
    "# Create a thread\n",
    "thread = client.beta.threads.create()"
   ]
  },
  {
   "cell_type": "code",
   "execution_count": 5,
   "metadata": {},
   "outputs": [],
   "source": [
    "# Create a message\n",
    "message = client.beta.threads.messages.create(\n",
    "    thread_id=thread.id,\n",
    "    role=\"user\",\n",
    "    content=\"I need to solve the equation `3x + 11 = 14`. Can you help me?\"\n",
    ")"
   ]
  },
  {
   "cell_type": "code",
   "execution_count": 6,
   "metadata": {},
   "outputs": [
    {
     "name": "stdout",
     "output_type": "stream",
     "text": [
      "\n",
      "Raw thread_messages.data\n",
      " [ThreadMessage(id='msg_DZOrnzBAmW8trIpFr0UU0JJm', assistant_id=None, content=[MessageContentText(text=Text(annotations=[], value='I need to solve the equation `3x + 11 = 14`. Can you help me?'), type='text')], created_at=1701459489, file_ids=[], metadata={}, object='thread.message', role='user', run_id=None, thread_id='thread_1iatFbxyMn9KT1eiFaxAWEHr')]\n",
      "\n",
      "Message 0:\n",
      " I need to solve the equation `3x + 11 = 14`. Can you help me?\n"
     ]
    }
   ],
   "source": [
    "# List messages\n",
    "thread_messages = client.beta.threads.messages.list(thread.id)\n",
    "print(\"\\nRaw thread_messages.data\\n\", thread_messages.data)\n",
    "\n",
    "for idx, message in enumerate(reversed(thread_messages.data)):\n",
    "    print(f\"\\nMessage {idx}:\\n\", message.content[0].text.value)"
   ]
  },
  {
   "cell_type": "code",
   "execution_count": 7,
   "metadata": {},
   "outputs": [
    {
     "name": "stdout",
     "output_type": "stream",
     "text": [
      "Run status:  queued\n"
     ]
    }
   ],
   "source": [
    "# Run the assistant\n",
    "run = client.beta.threads.runs.create(\n",
    "  thread_id=thread.id,\n",
    "  assistant_id=assistant.id,\n",
    "  instructions=\"Please address the user as Jane Doe. The user has a premium account.\" # These instructions override the default instructions of the Assistant\n",
    ")\n",
    "\n",
    "# Check the run status. Expected output: in progress OR completed\n",
    "run = client.beta.threads.runs.retrieve(\n",
    "  thread_id=thread.id,\n",
    "  run_id=run.id\n",
    ")\n",
    "print(\"Run status: \", run.status)"
   ]
  },
  {
   "cell_type": "code",
   "execution_count": 13,
   "metadata": {},
   "outputs": [
    {
     "name": "stdout",
     "output_type": "stream",
     "text": [
      "Run status:  in_progress\n"
     ]
    }
   ],
   "source": [
    "# Check the run status again. Expected output: completed, move on to next step once completed\n",
    "run = client.beta.threads.runs.retrieve(\n",
    "  thread_id=thread.id,\n",
    "  run_id=run.id\n",
    ")\n",
    "print(\"Run status: \", run.status)"
   ]
  },
  {
   "cell_type": "code",
   "execution_count": 12,
   "metadata": {},
   "outputs": [
    {
     "name": "stdout",
     "output_type": "stream",
     "text": [
      "\n",
      "Raw messages:\n",
      " SyncCursorPage[ThreadMessage](data=[ThreadMessage(id='msg_YvXcPnfdGuVlajsxtYbtmYTO', assistant_id='asst_j29opJ5wU1SkkO1qFYqIGMIB', content=[MessageContentText(text=Text(annotations=[], value=\"Certainly, Jane Doe! To solve the equation `3x + 11 = 14`, we need to find the value of `x` that makes the equation true. We do this by isolating `x` on one side of the equation. Here are the steps:\\n\\n1. Subtract 11 from both sides of the equation to get `3x` by itself:\\n    `3x + 11 - 11 = 14 - 11`\\n2. This simplifies to:\\n    `3x = 3`\\n3. Finally, divide both sides by 3 to solve for `x`:\\n    `x = 3 / 3`\\n\\nLet's calculate the exact value of `x`.\"), type='text')], created_at=1701459490, file_ids=[], metadata={}, object='thread.message', role='assistant', run_id='run_YEl7BLR38ZXUh4dyWzHuLvdx', thread_id='thread_1iatFbxyMn9KT1eiFaxAWEHr'), ThreadMessage(id='msg_DZOrnzBAmW8trIpFr0UU0JJm', assistant_id=None, content=[MessageContentText(text=Text(annotations=[], value='I need to solve the equation `3x + 11 = 14`. Can you help me?'), type='text')], created_at=1701459489, file_ids=[], metadata={}, object='thread.message', role='user', run_id=None, thread_id='thread_1iatFbxyMn9KT1eiFaxAWEHr')], object='list', first_id='msg_YvXcPnfdGuVlajsxtYbtmYTO', last_id='msg_DZOrnzBAmW8trIpFr0UU0JJm', has_more=False)\n",
      "\n",
      "Message 0:\n",
      " I need to solve the equation `3x + 11 = 14`. Can you help me?\n",
      "\n",
      "Message 1:\n",
      " Certainly, Jane Doe! To solve the equation `3x + 11 = 14`, we need to find the value of `x` that makes the equation true. We do this by isolating `x` on one side of the equation. Here are the steps:\n",
      "\n",
      "1. Subtract 11 from both sides of the equation to get `3x` by itself:\n",
      "    `3x + 11 - 11 = 14 - 11`\n",
      "2. This simplifies to:\n",
      "    `3x = 3`\n",
      "3. Finally, divide both sides by 3 to solve for `x`:\n",
      "    `x = 3 / 3`\n",
      "\n",
      "Let's calculate the exact value of `x`.\n"
     ]
    }
   ],
   "source": [
    "# Check the messages\n",
    "messages = client.beta.threads.messages.list(\n",
    "  thread_id=thread.id\n",
    ")\n",
    "print(\"\\nRaw messages:\\n\", messages)\n",
    "\n",
    "for idx, message in enumerate(reversed(messages.data)):\n",
    "    print(f\"\\nMessage {idx}:\\n\", message.content[0].text.value)"
   ]
  },
  {
   "cell_type": "markdown",
   "metadata": {},
   "source": [
    "# Assistants API with Retrieval"
   ]
  },
  {
   "cell_type": "code",
   "execution_count": 97,
   "metadata": {},
   "outputs": [],
   "source": [
    "file = client.files.create(\n",
    "  file=open(\"test.txt\", \"rb\"),\n",
    "  purpose='assistants'\n",
    ")"
   ]
  },
  {
   "cell_type": "code",
   "execution_count": 98,
   "metadata": {},
   "outputs": [],
   "source": [
    "# Create an assistant with Retrieval\n",
    "assistant = client.beta.assistants.create(\n",
    "  name=\"Reader\",\n",
    "  description=\"You are great at reading files. You read the .txt files present. You also share a brief text summary of what you observed.\",\n",
    "  model=\"gpt-4-1106-preview\",\n",
    "  tools=[{\"type\": \"code_interpreter\", \"type\": \"retrieval\"}],\n",
    "  file_ids=[file.id]\n",
    ")"
   ]
  },
  {
   "cell_type": "code",
   "execution_count": 99,
   "metadata": {},
   "outputs": [],
   "source": [
    "# Create a thread\n",
    "thread = client.beta.threads.create()"
   ]
  },
  {
   "cell_type": "code",
   "execution_count": 100,
   "metadata": {},
   "outputs": [],
   "source": [
    "# Create a message\n",
    "message = client.beta.threads.messages.create(\n",
    "    thread_id=thread.id,\n",
    "    role=\"user\",\n",
    "    content=\"Give me some summaries of the existing files\"\n",
    ")"
   ]
  },
  {
   "cell_type": "code",
   "execution_count": 101,
   "metadata": {},
   "outputs": [
    {
     "name": "stdout",
     "output_type": "stream",
     "text": [
      "\n",
      "Raw thread_messages.data\n",
      " [ThreadMessage(id='msg_nRHMZPdtiY8FGYXpVLJOb9HK', assistant_id=None, content=[MessageContentText(text=Text(annotations=[], value='Give me some summaries of the existing files'), type='text')], created_at=1701461122, file_ids=[], metadata={}, object='thread.message', role='user', run_id=None, thread_id='thread_HOVIrYhEYGdRPEvDgxI5HEoi')]\n",
      "\n",
      "Message 0:\n",
      " Give me some summaries of the existing files\n"
     ]
    }
   ],
   "source": [
    "# List messages\n",
    "thread_messages = client.beta.threads.messages.list(thread.id)\n",
    "print(\"\\nRaw thread_messages.data\\n\", thread_messages.data)\n",
    "\n",
    "for idx, message in enumerate(reversed(thread_messages.data)):\n",
    "    print(f\"\\nMessage {idx}:\\n\", message.content[0].text.value)"
   ]
  },
  {
   "cell_type": "code",
   "execution_count": 102,
   "metadata": {},
   "outputs": [
    {
     "name": "stdout",
     "output_type": "stream",
     "text": [
      "Run status:  queued\n"
     ]
    }
   ],
   "source": [
    "# Run the assistant\n",
    "run = client.beta.threads.runs.create(\n",
    "  thread_id=thread.id,\n",
    "  assistant_id=assistant.id,\n",
    ")\n",
    "\n",
    "# Check the run status. Expected output: in progress OR completed\n",
    "run = client.beta.threads.runs.retrieve(\n",
    "  thread_id=thread.id,\n",
    "  run_id=run.id\n",
    ")\n",
    "print(\"Run status: \", run.status)"
   ]
  },
  {
   "cell_type": "code",
   "execution_count": 107,
   "metadata": {},
   "outputs": [
    {
     "name": "stdout",
     "output_type": "stream",
     "text": [
      "Run status:  completed\n",
      "\n",
      "Raw messages:\n",
      " SyncCursorPage[ThreadMessage](data=[ThreadMessage(id='msg_mwZfgZuHCZTpWvw6iMRfQwDE', assistant_id='asst_71fOZbXrxUUV9CfBbBc4GMk7', content=[MessageContentText(text=Text(annotations=[], value='The file you uploaded is named `test.txt` and contains a brief message. Here’s a summary:\\n\\n- The message thanks you for using Assistants API.\\n- It mentions that this is indeed just a test text file.\\n- It includes a personal fun fact stating that the author likes grapes.\\n- There\\'s a reference to a \"special number,\" which is 100.\\n\\nThis appears to be a simple test file rather than a substantive document. If you have any specific requests or need more detailed summaries of other files, please let me know!'), type='text')], created_at=1701461129, file_ids=[], metadata={}, object='thread.message', role='assistant', run_id='run_MotJ4RtxdGcuXHtqJwZxNkuO', thread_id='thread_HOVIrYhEYGdRPEvDgxI5HEoi'), ThreadMessage(id='msg_nRHMZPdtiY8FGYXpVLJOb9HK', assistant_id=None, content=[MessageContentText(text=Text(annotations=[], value='Give me some summaries of the existing files'), type='text')], created_at=1701461122, file_ids=[], metadata={}, object='thread.message', role='user', run_id=None, thread_id='thread_HOVIrYhEYGdRPEvDgxI5HEoi')], object='list', first_id='msg_mwZfgZuHCZTpWvw6iMRfQwDE', last_id='msg_nRHMZPdtiY8FGYXpVLJOb9HK', has_more=False)\n",
      "\n",
      "Message 0:\n",
      " Give me some summaries of the existing files\n",
      "\n",
      "Message 1:\n",
      " The file you uploaded is named `test.txt` and contains a brief message. Here’s a summary:\n",
      "\n",
      "- The message thanks you for using Assistants API.\n",
      "- It mentions that this is indeed just a test text file.\n",
      "- It includes a personal fun fact stating that the author likes grapes.\n",
      "- There's a reference to a \"special number,\" which is 100.\n",
      "\n",
      "This appears to be a simple test file rather than a substantive document. If you have any specific requests or need more detailed summaries of other files, please let me know!\n"
     ]
    }
   ],
   "source": [
    "# Check the run status again. Expected output: completed, move on to next step once completed\n",
    "run = client.beta.threads.runs.retrieve(\n",
    "  thread_id=thread.id,\n",
    "  run_id=run.id\n",
    ")\n",
    "print(\"Run status: \", run.status)\n",
    "\n",
    "# Check the messages\n",
    "messages = client.beta.threads.messages.list(\n",
    "  thread_id=thread.id\n",
    ")\n",
    "print(\"\\nRaw messages:\\n\", messages)\n",
    "\n",
    "for idx, message in enumerate(reversed(messages.data)):\n",
    "    print(f\"\\nMessage {idx}:\\n\", message.content[0].text.value)\n",
    "\n",
    "assert(run.status == \"completed\")"
   ]
  },
  {
   "cell_type": "code",
   "execution_count": 108,
   "metadata": {},
   "outputs": [],
   "source": [
    "# Playing around with using an assistant file\n",
    "file_2 = client.files.create(\n",
    "  file=open(\"test_2.txt\", \"rb\"),\n",
    "  purpose='assistants'\n",
    ")"
   ]
  },
  {
   "cell_type": "code",
   "execution_count": 109,
   "metadata": {},
   "outputs": [
    {
     "name": "stdout",
     "output_type": "stream",
     "text": [
      "AssistantFile(id='file-FVDKn6HPii4fjEaURQK8sK1y', assistant_id='asst_71fOZbXrxUUV9CfBbBc4GMk7', created_at=1701461235, object='assistant.file')\n"
     ]
    }
   ],
   "source": [
    "# Create the assistant file\n",
    "assistant_file = client.beta.assistants.files.create(\n",
    "  assistant_id=assistant.id, \n",
    "  file_id=file_2.id\n",
    ")\n",
    "print(assistant_file)"
   ]
  },
  {
   "cell_type": "code",
   "execution_count": 110,
   "metadata": {},
   "outputs": [
    {
     "name": "stdout",
     "output_type": "stream",
     "text": [
      "AssistantFile(id='file-FVDKn6HPii4fjEaURQK8sK1y', assistant_id='asst_71fOZbXrxUUV9CfBbBc4GMk7', created_at=1701461235, object='assistant.file')\n"
     ]
    }
   ],
   "source": [
    "# Retrieve the assistant file\n",
    "assistant_file = client.beta.assistants.files.retrieve(\n",
    "  assistant_id=assistant.id, \n",
    "  file_id=file_2.id\n",
    ")\n",
    "print(assistant_file)"
   ]
  },
  {
   "cell_type": "code",
   "execution_count": 112,
   "metadata": {},
   "outputs": [
    {
     "name": "stdout",
     "output_type": "stream",
     "text": [
      "# of files:  2\n",
      "SyncCursorPage[AssistantFile](data=[AssistantFile(id='file-FVDKn6HPii4fjEaURQK8sK1y', assistant_id='asst_71fOZbXrxUUV9CfBbBc4GMk7', created_at=1701461235, object='assistant.file'), AssistantFile(id='file-AkZfAfpPn09KBzw7eJk1rIqE', assistant_id='asst_71fOZbXrxUUV9CfBbBc4GMk7', created_at=1701461118, object='assistant.file')], object='list', first_id='file-FVDKn6HPii4fjEaURQK8sK1y', last_id='file-AkZfAfpPn09KBzw7eJk1rIqE', has_more=False)\n"
     ]
    }
   ],
   "source": [
    "# List assistant files\n",
    "assistant_files = client.beta.assistants.files.list(\n",
    "  assistant_id=assistant.id\n",
    ")\n",
    "print(\"# of files: \", len(assistant_files.data))\n",
    "print(assistant_files)"
   ]
  },
  {
   "cell_type": "code",
   "execution_count": 114,
   "metadata": {},
   "outputs": [],
   "source": [
    "# Upload a file with an \"assistants\" purpose\n",
    "file_3 = client.files.create(\n",
    "  file=open(\"test_3.txt\", \"rb\"),\n",
    "  purpose='assistants'\n",
    ")"
   ]
  },
  {
   "cell_type": "code",
   "execution_count": 123,
   "metadata": {},
   "outputs": [
    {
     "name": "stdout",
     "output_type": "stream",
     "text": [
      "\n",
      "Raw thread_messages.data\n",
      " [ThreadMessage(id='msg_mNidzFPMtt1oCfI6q7T4opmY', assistant_id=None, content=[MessageContentText(text=Text(annotations=[], value='Tell me what the highest special number is based on the information in my files. I just added a new file.'), type='text')], created_at=1701461839, file_ids=['file-l0qW89pGfXmNubnhg5UTzkfD'], metadata={}, object='thread.message', role='user', run_id=None, thread_id='thread_HOVIrYhEYGdRPEvDgxI5HEoi'), ThreadMessage(id='msg_Yi4kPHkZ4z9SUmgY71MYXZGo', assistant_id='asst_71fOZbXrxUUV9CfBbBc4GMk7', content=[MessageContentText(text=Text(annotations=[], value='Based on the information from the second file, `test_2.txt`, the special number mentioned is 10. Comparing this with the special number 100 from the first file, `test.txt`, the highest special number mentioned in the files provided is 100.'), type='text')], created_at=1701461738, file_ids=[], metadata={}, object='thread.message', role='assistant', run_id='run_fbS9Op9L7aJtSQMYF36Idsn6', thread_id='thread_HOVIrYhEYGdRPEvDgxI5HEoi'), ThreadMessage(id='msg_Obo5eKbXfSfwff8Aho4XAlUk', assistant_id=None, content=[MessageContentText(text=Text(annotations=[], value='Tell me what the highest special number is based on the information in my files'), type='text')], created_at=1701461724, file_ids=['file-l0qW89pGfXmNubnhg5UTzkfD'], metadata={}, object='thread.message', role='user', run_id=None, thread_id='thread_HOVIrYhEYGdRPEvDgxI5HEoi'), ThreadMessage(id='msg_TmdZaXGUosoPbPIgol9iSVmN', assistant_id=None, content=[MessageContentText(text=Text(annotations=[], value='Tell me what the highest special number is based on the information in my files'), type='text')], created_at=1701461317, file_ids=['file-l0qW89pGfXmNubnhg5UTzkfD'], metadata={}, object='thread.message', role='user', run_id=None, thread_id='thread_HOVIrYhEYGdRPEvDgxI5HEoi'), ThreadMessage(id='msg_mwZfgZuHCZTpWvw6iMRfQwDE', assistant_id='asst_71fOZbXrxUUV9CfBbBc4GMk7', content=[MessageContentText(text=Text(annotations=[], value='The file you uploaded is named `test.txt` and contains a brief message. Here’s a summary:\\n\\n- The message thanks you for using Assistants API.\\n- It mentions that this is indeed just a test text file.\\n- It includes a personal fun fact stating that the author likes grapes.\\n- There\\'s a reference to a \"special number,\" which is 100.\\n\\nThis appears to be a simple test file rather than a substantive document. If you have any specific requests or need more detailed summaries of other files, please let me know!'), type='text')], created_at=1701461129, file_ids=[], metadata={}, object='thread.message', role='assistant', run_id='run_MotJ4RtxdGcuXHtqJwZxNkuO', thread_id='thread_HOVIrYhEYGdRPEvDgxI5HEoi'), ThreadMessage(id='msg_nRHMZPdtiY8FGYXpVLJOb9HK', assistant_id=None, content=[MessageContentText(text=Text(annotations=[], value='Give me some summaries of the existing files'), type='text')], created_at=1701461122, file_ids=[], metadata={}, object='thread.message', role='user', run_id=None, thread_id='thread_HOVIrYhEYGdRPEvDgxI5HEoi')]\n",
      "\n",
      "Message 0:\n",
      " Give me some summaries of the existing files\n",
      "\n",
      "Message 1:\n",
      " The file you uploaded is named `test.txt` and contains a brief message. Here’s a summary:\n",
      "\n",
      "- The message thanks you for using Assistants API.\n",
      "- It mentions that this is indeed just a test text file.\n",
      "- It includes a personal fun fact stating that the author likes grapes.\n",
      "- There's a reference to a \"special number,\" which is 100.\n",
      "\n",
      "This appears to be a simple test file rather than a substantive document. If you have any specific requests or need more detailed summaries of other files, please let me know!\n",
      "\n",
      "Message 2:\n",
      " Tell me what the highest special number is based on the information in my files\n",
      "\n",
      "Message 3:\n",
      " Tell me what the highest special number is based on the information in my files\n",
      "\n",
      "Message 4:\n",
      " Based on the information from the second file, `test_2.txt`, the special number mentioned is 10. Comparing this with the special number 100 from the first file, `test.txt`, the highest special number mentioned in the files provided is 100.\n",
      "\n",
      "Message 5:\n",
      " Tell me what the highest special number is based on the information in my files. I just added a new file.\n"
     ]
    }
   ],
   "source": [
    "# Run the Assistants API trying to retrieve the higher number\n",
    "\n",
    "# Create a message\n",
    "message = client.beta.threads.messages.create(\n",
    "    thread_id=thread.id, # Continue the existing thread\n",
    "    role=\"user\",\n",
    "    content=\"Tell me what the highest special number is based on the information in my files. I just added a new file.\",\n",
    "    file_ids=[file_3.id]\n",
    ")\n",
    "\n",
    "# List messages\n",
    "thread_messages = client.beta.threads.messages.list(thread.id)\n",
    "print(\"\\nRaw thread_messages.data\\n\", thread_messages.data)\n",
    "\n",
    "for idx, message in enumerate(reversed(thread_messages.data)):\n",
    "    print(f\"\\nMessage {idx}:\\n\", message.content[0].text.value)"
   ]
  },
  {
   "cell_type": "code",
   "execution_count": 134,
   "metadata": {},
   "outputs": [
    {
     "name": "stdout",
     "output_type": "stream",
     "text": [
      "Run status:  queued\n"
     ]
    }
   ],
   "source": [
    "# Run the assistant\n",
    "run = client.beta.threads.runs.create(\n",
    "  thread_id=thread.id,\n",
    "  assistant_id=assistant.id,\n",
    ")\n",
    "\n",
    "# Check the run status. Expected output: in progress OR completed\n",
    "run = client.beta.threads.runs.retrieve(\n",
    "  thread_id=thread.id,\n",
    "  run_id=run.id\n",
    ")\n",
    "print(\"Run status: \", run.status)"
   ]
  },
  {
   "cell_type": "code",
   "execution_count": 135,
   "metadata": {},
   "outputs": [
    {
     "name": "stdout",
     "output_type": "stream",
     "text": [
      "Run status:  in_progress\n",
      "Run status:  in_progress\n",
      "Run status:  in_progress\n",
      "Run status:  in_progress\n",
      "Run status:  in_progress\n",
      "Run status:  in_progress\n",
      "Run status:  in_progress\n",
      "Run status:  completed\n",
      "\n",
      "Raw messages:\n",
      " SyncCursorPage[ThreadMessage](data=[ThreadMessage(id='msg_KJN2J23bhjn4fEBZdjNBCg7w', assistant_id='asst_71fOZbXrxUUV9CfBbBc4GMk7', content=[MessageContentText(text=Text(annotations=[], value='I\\'ve reviewed the content of the most recently uploaded file `test_3.txt` and found that it lists the \"special number\" as 250. Considering the previous files where the special numbers mentioned were 100 and 10, the highest special number based on the information in your files is 250.'), type='text')], created_at=1701462757, file_ids=[], metadata={}, object='thread.message', role='assistant', run_id='run_SpS0lzWgdFMJhTMJSmKUUn05', thread_id='thread_HOVIrYhEYGdRPEvDgxI5HEoi'), ThreadMessage(id='msg_JoD40xBF3PK4Ie7q7oXfja55', assistant_id='asst_71fOZbXrxUUV9CfBbBc4GMk7', content=[MessageContentText(text=Text(annotations=[], value=\"I've analyzed the most recent file, `test_3.txt`, and it contains a special number of 250. Given the information from the previous files where the special numbers were 100 and 10, the highest special number in your files is 250.\"), type='text')], created_at=1701462599, file_ids=[], metadata={}, object='thread.message', role='assistant', run_id='run_rHnT2dEDjDwLZlK6e01VqpOT', thread_id='thread_HOVIrYhEYGdRPEvDgxI5HEoi'), ThreadMessage(id='msg_kWZp3ME9H5lf4DNuKX7LZBcj', assistant_id='asst_71fOZbXrxUUV9CfBbBc4GMk7', content=[MessageContentText(text=Text(annotations=[], value=\"The highest special number mentioned across the files you've uploaded is 250, as stated in the latest file, `test_3.txt`. The previous files had special numbers of 100 and 10, which makes the number 250 the highest of the three.\"), type='text')], created_at=1701461856, file_ids=[], metadata={}, object='thread.message', role='assistant', run_id='run_fKC3kmo5DGo6SMNP2AOLoyQo', thread_id='thread_HOVIrYhEYGdRPEvDgxI5HEoi'), ThreadMessage(id='msg_mNidzFPMtt1oCfI6q7T4opmY', assistant_id=None, content=[MessageContentText(text=Text(annotations=[], value='Tell me what the highest special number is based on the information in my files. I just added a new file.'), type='text')], created_at=1701461839, file_ids=['file-l0qW89pGfXmNubnhg5UTzkfD'], metadata={}, object='thread.message', role='user', run_id=None, thread_id='thread_HOVIrYhEYGdRPEvDgxI5HEoi'), ThreadMessage(id='msg_Yi4kPHkZ4z9SUmgY71MYXZGo', assistant_id='asst_71fOZbXrxUUV9CfBbBc4GMk7', content=[MessageContentText(text=Text(annotations=[], value='Based on the information from the second file, `test_2.txt`, the special number mentioned is 10. Comparing this with the special number 100 from the first file, `test.txt`, the highest special number mentioned in the files provided is 100.'), type='text')], created_at=1701461738, file_ids=[], metadata={}, object='thread.message', role='assistant', run_id='run_fbS9Op9L7aJtSQMYF36Idsn6', thread_id='thread_HOVIrYhEYGdRPEvDgxI5HEoi'), ThreadMessage(id='msg_Obo5eKbXfSfwff8Aho4XAlUk', assistant_id=None, content=[MessageContentText(text=Text(annotations=[], value='Tell me what the highest special number is based on the information in my files'), type='text')], created_at=1701461724, file_ids=['file-l0qW89pGfXmNubnhg5UTzkfD'], metadata={}, object='thread.message', role='user', run_id=None, thread_id='thread_HOVIrYhEYGdRPEvDgxI5HEoi'), ThreadMessage(id='msg_TmdZaXGUosoPbPIgol9iSVmN', assistant_id=None, content=[MessageContentText(text=Text(annotations=[], value='Tell me what the highest special number is based on the information in my files'), type='text')], created_at=1701461317, file_ids=['file-l0qW89pGfXmNubnhg5UTzkfD'], metadata={}, object='thread.message', role='user', run_id=None, thread_id='thread_HOVIrYhEYGdRPEvDgxI5HEoi'), ThreadMessage(id='msg_mwZfgZuHCZTpWvw6iMRfQwDE', assistant_id='asst_71fOZbXrxUUV9CfBbBc4GMk7', content=[MessageContentText(text=Text(annotations=[], value='The file you uploaded is named `test.txt` and contains a brief message. Here’s a summary:\\n\\n- The message thanks you for using Assistants API.\\n- It mentions that this is indeed just a test text file.\\n- It includes a personal fun fact stating that the author likes grapes.\\n- There\\'s a reference to a \"special number,\" which is 100.\\n\\nThis appears to be a simple test file rather than a substantive document. If you have any specific requests or need more detailed summaries of other files, please let me know!'), type='text')], created_at=1701461129, file_ids=[], metadata={}, object='thread.message', role='assistant', run_id='run_MotJ4RtxdGcuXHtqJwZxNkuO', thread_id='thread_HOVIrYhEYGdRPEvDgxI5HEoi'), ThreadMessage(id='msg_nRHMZPdtiY8FGYXpVLJOb9HK', assistant_id=None, content=[MessageContentText(text=Text(annotations=[], value='Give me some summaries of the existing files'), type='text')], created_at=1701461122, file_ids=[], metadata={}, object='thread.message', role='user', run_id=None, thread_id='thread_HOVIrYhEYGdRPEvDgxI5HEoi')], object='list', first_id='msg_KJN2J23bhjn4fEBZdjNBCg7w', last_id='msg_nRHMZPdtiY8FGYXpVLJOb9HK', has_more=False)\n",
      "\n",
      "Message 0:\n",
      " Text(annotations=[], value='Give me some summaries of the existing files\\n')\n",
      "\n",
      "Message 1:\n",
      " Text(annotations=[], value='The file you uploaded is named `test.txt` and contains a brief message. Here’s a summary:\\n\\n- The message thanks you for using Assistants API.\\n- It mentions that this is indeed just a test text file.\\n- It includes a personal fun fact stating that the author likes grapes.\\n- There\\'s a reference to a \"special number,\" which is 100.\\n\\nThis appears to be a simple test file rather than a substantive document. If you have any specific requests or need more detailed summaries of other files, please let me know!\\n')\n",
      "\n",
      "Message 2:\n",
      " Text(annotations=[], value='Tell me what the highest special number is based on the information in my files\\n')\n",
      "\n",
      "Message 3:\n",
      " Text(annotations=[], value='Tell me what the highest special number is based on the information in my files\\n')\n",
      "\n",
      "Message 4:\n",
      " Text(annotations=[], value='Based on the information from the second file, `test_2.txt`, the special number mentioned is 10. Comparing this with the special number 100 from the first file, `test.txt`, the highest special number mentioned in the files provided is 100.\\n')\n",
      "\n",
      "Message 5:\n",
      " Text(annotations=[], value='Tell me what the highest special number is based on the information in my files. I just added a new file.\\n')\n",
      "\n",
      "Message 6:\n",
      " Text(annotations=[], value=\"The highest special number mentioned across the files you've uploaded is 250, as stated in the latest file, `test_3.txt`. The previous files had special numbers of 100 and 10, which makes the number 250 the highest of the three.\\n\")\n",
      "\n",
      "Message 7:\n",
      " Text(annotations=[], value=\"I've analyzed the most recent file, `test_3.txt`, and it contains a special number of 250. Given the information from the previous files where the special numbers were 100 and 10, the highest special number in your files is 250.\\n\")\n",
      "\n",
      "Message 8:\n",
      " Text(annotations=[], value='I\\'ve reviewed the content of the most recently uploaded file `test_3.txt` and found that it lists the \"special number\" as 250. Considering the previous files where the special numbers mentioned were 100 and 10, the highest special number based on the information in your files is 250.\\n')\n"
     ]
    }
   ],
   "source": [
    "# Check the run status again. Expected output: completed, move on to next step once completed.\n",
    "# Also added annotations here. # TODO: Current example doesn't use annotations, so improve the sample by increasing the size of the text files to support annotations\n",
    "while run.status == \"in_progress\" or run.status == \"queued\":\n",
    "  run = client.beta.threads.runs.retrieve(\n",
    "    thread_id=thread.id,\n",
    "    run_id=run.id\n",
    "  )\n",
    "  print(\"Run status: \", run.status)\n",
    "  time.sleep(1)\n",
    "\n",
    "# Check the messages\n",
    "messages = client.beta.threads.messages.list(\n",
    "  thread_id=thread.id\n",
    ")\n",
    "print(\"\\nRaw messages:\\n\", messages)\n",
    "\n",
    "for idx, message in enumerate(reversed(messages.data)):\n",
    "    # Adding annotations here\n",
    "\n",
    "    # Extract the message content\n",
    "    message_content = message.content[0].text\n",
    "    annotations = message_content.annotations\n",
    "    citations = []\n",
    "\n",
    "    # Iterate over the annotations and add footnotes\n",
    "    for index, annotation in enumerate(annotations):\n",
    "        # Replace the text with a footnote\n",
    "        message_content.value = message_content.value.replace(annotation.text, f' [{index}]')\n",
    "\n",
    "        # Gather citations based on annotation attributes\n",
    "        if (file_citation := getattr(annotation, 'file_citation', None)):\n",
    "            cited_file = client.files.retrieve(file_citation.file_id)\n",
    "            citations.append(f'[{index}] {file_citation.quote} from {cited_file.filename}')\n",
    "        elif (file_path := getattr(annotation, 'file_path', None)):\n",
    "            cited_file = client.files.retrieve(file_path.file_id)\n",
    "            citations.append(f'[{index}] Click <here> to download {cited_file.filename}')\n",
    "            # Note: File download functionality not implemented above for brevity\n",
    "\n",
    "    # Add footnotes to the end of the message before displaying to user\n",
    "    message_content.value += '\\n' + '\\n'.join(citations)\n",
    "    \n",
    "    print(f\"\\nMessage {idx}:\\n\", message_content)\n",
    "\n",
    "assert(run.status == \"completed\")"
   ]
  },
  {
   "cell_type": "code",
   "execution_count": 130,
   "metadata": {},
   "outputs": [
    {
     "name": "stdout",
     "output_type": "stream",
     "text": [
      "FileDeleteResponse(id='file-FVDKn6HPii4fjEaURQK8sK1y', deleted=True, object='assistant.file.deleted')\n"
     ]
    }
   ],
   "source": [
    "# Delete an assistant file\n",
    "deleted_assistant_file = client.beta.assistants.files.delete(\n",
    "    assistant_id=assistant.id,\n",
    "    file_id=file_2.id\n",
    ")\n",
    "print(deleted_assistant_file)"
   ]
  },
  {
   "cell_type": "code",
   "execution_count": 131,
   "metadata": {},
   "outputs": [
    {
     "name": "stdout",
     "output_type": "stream",
     "text": [
      "# of files:  1\n",
      "SyncCursorPage[AssistantFile](data=[AssistantFile(id='file-AkZfAfpPn09KBzw7eJk1rIqE', assistant_id='asst_71fOZbXrxUUV9CfBbBc4GMk7', created_at=1701461118, object='assistant.file')], object='list', first_id='file-AkZfAfpPn09KBzw7eJk1rIqE', last_id='file-AkZfAfpPn09KBzw7eJk1rIqE', has_more=False)\n"
     ]
    }
   ],
   "source": [
    "# List assistant files\n",
    "assistant_files = client.beta.assistants.files.list(\n",
    "  assistant_id=assistant.id\n",
    ")\n",
    "print(\"# of files: \", len(assistant_files.data))\n",
    "print(assistant_files)"
   ]
  },
  {
   "cell_type": "code",
   "execution_count": null,
   "metadata": {},
   "outputs": [],
   "source": [
    "# Cancelling a run. TODO: Integrate into sample somewhere to demonstrate.\n",
    "# run = client.beta.threads.runs.cancel(thread_id=thread.id, run_id=run.id)\n",
    "# while run.status == \"in_progress\":\n",
    "#     run = client.beta.threads.runs.retrieve(\n",
    "#         thread_id=thread.id,\n",
    "#         run_id=run.id\n",
    "#     )"
   ]
  },
  {
   "cell_type": "markdown",
   "metadata": {},
   "source": [
    "# Assistants API with function calling"
   ]
  },
  {
   "cell_type": "code",
   "execution_count": 148,
   "metadata": {},
   "outputs": [],
   "source": [
    "assistant = client.beta.assistants.create(\n",
    "  instructions=\"You are a weather bot. Use the provided functions to answer questions.\",\n",
    "  model=\"gpt-4-1106-preview\",\n",
    "  tools=[{\n",
    "      \"type\": \"function\",\n",
    "    \"function\": {\n",
    "      \"name\": \"getCurrentWeather()\",\n",
    "      \"description\": \"Get the weather in location\",\n",
    "      \"parameters\": {\n",
    "        \"type\": \"object\",\n",
    "        \"properties\": {\n",
    "          \"location\": {\"type\": \"string\", \"description\": \"The city and state e.g. San Francisco, CA\"},\n",
    "          \"unit\": {\"type\": \"string\", \"enum\": [\"c\", \"f\"]}\n",
    "        },\n",
    "        \"required\": [\"location\"]\n",
    "      }\n",
    "    }\n",
    "  }, {\n",
    "    \"type\": \"function\",\n",
    "    \"function\": {\n",
    "      \"name\": \"getNickname\",\n",
    "      \"description\": \"Get the nickname of a city\",\n",
    "      \"parameters\": {\n",
    "        \"type\": \"object\",\n",
    "        \"properties\": {\n",
    "          \"location\": {\"type\": \"string\", \"description\": \"The city and state e.g. San Francisco, CA\"},\n",
    "        },\n",
    "        \"required\": [\"location\"]\n",
    "      }\n",
    "    } \n",
    "  }]\n",
    ")"
   ]
  },
  {
   "cell_type": "code",
   "execution_count": 149,
   "metadata": {},
   "outputs": [],
   "source": [
    "# Create a thread\n",
    "thread = client.beta.threads.create()\n",
    "\n",
    "# Create a message\n",
    "message = client.beta.threads.messages.create(\n",
    "    thread_id=thread.id,\n",
    "    role=\"user\",\n",
    "    content=\"What's the weather for San Francisco?\",\n",
    ")\n",
    "\n",
    "# Create a run\n",
    "run = client.beta.threads.runs.create(\n",
    "    thread_id=thread.id,\n",
    "    assistant_id=assistant.id,\n",
    ")"
   ]
  },
  {
   "cell_type": "code",
   "execution_count": 152,
   "metadata": {},
   "outputs": [
    {
     "name": "stdout",
     "output_type": "stream",
     "text": [
      "Run status:  requires_action\n"
     ]
    }
   ],
   "source": [
    "# Check the run status. Expected output: in progress OR completed\n",
    "run = client.beta.threads.runs.retrieve(\n",
    "  thread_id=thread.id,\n",
    "  run_id=run.id\n",
    ")\n",
    "print(\"Run status: \", run.status)"
   ]
  },
  {
   "cell_type": "code",
   "execution_count": 151,
   "metadata": {},
   "outputs": [],
   "source": [
    "# Functions hard coded for brevity\n",
    "def getCurrentWeather(location, **kwargs):\n",
    "    return \"It's sunny!\"\n",
    "\n",
    "def getNickname(location):\n",
    "    return \"The city by the bay\"\n",
    "\n",
    "tools = {\n",
    "    'getCurrentWeather': getCurrentWeather,\n",
    "    'getNickname': getNickname\n",
    "}"
   ]
  },
  {
   "cell_type": "code",
   "execution_count": 153,
   "metadata": {},
   "outputs": [
    {
     "name": "stdout",
     "output_type": "stream",
     "text": [
      "tool_outputs\n",
      " [{'tool_call_id': 'call_Y6QDy6t6DScEQfzM2TkaRpjp', 'output': \"It's sunny!\"}]\n"
     ]
    }
   ],
   "source": [
    "assert(run.status == \"requires_action\") # Needs to require action before calling tools\n",
    "\n",
    "tool_outputs = []\n",
    "for tool_call in run.required_action.submit_tool_outputs.tool_calls:\n",
    "    tool_id, tool_function, tool_type = tool_call.id, tool_call.function, tool_call.type\n",
    "    args = json.loads(tool_function.arguments)\n",
    "    tool_output = tools[tool_function.name](**args)\n",
    "    tool_outputs.append({\n",
    "        \"tool_call_id\": tool_id,\n",
    "        \"output\": tool_output\n",
    "    })\n",
    "print(\"tool_outputs\\n\", tool_outputs)"
   ]
  },
  {
   "cell_type": "code",
   "execution_count": 154,
   "metadata": {},
   "outputs": [],
   "source": [
    "run = client.beta.threads.runs.submit_tool_outputs(\n",
    "  thread_id=thread.id,\n",
    "  run_id=run.id,\n",
    "  tool_outputs=tool_outputs\n",
    ")"
   ]
  },
  {
   "cell_type": "code",
   "execution_count": 155,
   "metadata": {},
   "outputs": [
    {
     "name": "stdout",
     "output_type": "stream",
     "text": [
      "\n",
      "Raw messages:\n",
      " SyncCursorPage[ThreadMessage](data=[ThreadMessage(id='msg_vMl6UwajaL41lc9OBWIn7RNp', assistant_id='asst_zyYnFhBP5E8mJrFuV8UeCRLB', content=[MessageContentText(text=Text(annotations=[], value='The current weather in San Francisco, CA is sunny! Enjoy the beautiful weather!'), type='text')], created_at=1701465127, file_ids=[], metadata={}, object='thread.message', role='assistant', run_id='run_8HeCKimlyLPeKa7wp4RAmtal', thread_id='thread_b0SnRaXwqT0UPNaGkw3aMske'), ThreadMessage(id='msg_3NjR5i9xIHDa7AM4Sqd6SBfy', assistant_id=None, content=[MessageContentText(text=Text(annotations=[], value=\"What's the weather for San Francisco?\"), type='text')], created_at=1701465114, file_ids=[], metadata={}, object='thread.message', role='user', run_id=None, thread_id='thread_b0SnRaXwqT0UPNaGkw3aMske')], object='list', first_id='msg_vMl6UwajaL41lc9OBWIn7RNp', last_id='msg_3NjR5i9xIHDa7AM4Sqd6SBfy', has_more=False)\n",
      "\n",
      "Message 0:\n",
      " What's the weather for San Francisco?\n",
      "\n",
      "Message 1:\n",
      " The current weather in San Francisco, CA is sunny! Enjoy the beautiful weather!\n"
     ]
    }
   ],
   "source": [
    "messages = client.beta.threads.messages.list(thread_id=thread.id)\n",
    "\n",
    "print(\"\\nRaw messages:\\n\", messages)\n",
    "\n",
    "for idx, message in enumerate(reversed(messages.data)):\n",
    "    print(f\"\\nMessage {idx}:\\n\", message.content[0].text.value)"
   ]
  },
  {
   "cell_type": "code",
   "execution_count": null,
   "metadata": {},
   "outputs": [],
   "source": [
    "# TODO: Add unit tests and ensure that they're comprehensive to ensure that the API shape between AOAI and OAI are the same. Likely use seed if supported."
   ]
  }
 ],
 "metadata": {
  "kernelspec": {
   "display_name": "Python 3",
   "language": "python",
   "name": "python3"
  },
  "language_info": {
   "codemirror_mode": {
    "name": "ipython",
    "version": 3
   },
   "file_extension": ".py",
   "mimetype": "text/x-python",
   "name": "python",
   "nbconvert_exporter": "python",
   "pygments_lexer": "ipython3",
   "version": "3.11.5"
  }
 },
 "nbformat": 4,
 "nbformat_minor": 2
}
