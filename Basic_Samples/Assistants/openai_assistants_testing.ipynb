{
 "cells": [
  {
   "cell_type": "code",
   "execution_count": 1,
   "metadata": {},
   "outputs": [
    {
     "data": {
      "text/plain": [
       "True"
      ]
     },
     "execution_count": 1,
     "metadata": {},
     "output_type": "execute_result"
    }
   ],
   "source": [
    "import openai\n",
    "import os\n",
    "from openai import OpenAI\n",
    "import time\n",
    "import json\n",
    "from dotenv import load_dotenv\n",
    "load_dotenv()"
   ]
  },
  {
   "cell_type": "code",
   "execution_count": 2,
   "metadata": {},
   "outputs": [],
   "source": [
    "openai.api_key = os.getenv(\"OPENAI_API_KEY\")\n",
    "client = OpenAI(api_key=openai.api_key)\n",
    "model = \"gpt-3.5-turbo-1106\""
   ]
  },
  {
   "cell_type": "markdown",
   "metadata": {},
   "source": [
    "# Assistants API with Code Interpreter\n",
    "Following docs here: https://platform.openai.com/docs/assistants/tools"
   ]
  },
  {
   "cell_type": "code",
   "execution_count": 3,
   "metadata": {},
   "outputs": [],
   "source": [
    "# Create an assistant with Code Interpreter\n",
    "assistant = client.beta.assistants.create(\n",
    "    name=\"Math Tutor\",\n",
    "    instructions=\"You are a personal math tutor. Write and run code to answer math questions.\",\n",
    "    tools=[{\"type\": \"code_interpreter\"}],\n",
    "    model=\"gpt-4-1106-preview\"\n",
    ")"
   ]
  },
  {
   "cell_type": "code",
   "execution_count": 4,
   "metadata": {},
   "outputs": [],
   "source": [
    "# Create a thread\n",
    "thread = client.beta.threads.create()"
   ]
  },
  {
   "cell_type": "code",
   "execution_count": 5,
   "metadata": {},
   "outputs": [],
   "source": [
    "# Create a message\n",
    "message = client.beta.threads.messages.create(\n",
    "    thread_id=thread.id,\n",
    "    role=\"user\",\n",
    "    content=\"I need to solve the equation `3x + 11 = 14`. Can you help me?\"\n",
    ")"
   ]
  },
  {
   "cell_type": "code",
   "execution_count": 6,
   "metadata": {},
   "outputs": [
    {
     "name": "stdout",
     "output_type": "stream",
     "text": [
      "\n",
      "Raw thread_messages.data\n",
      " [ThreadMessage(id='msg_rFhLSk6nEVNIJYrVIKIF46Wl', assistant_id=None, content=[MessageContentText(text=Text(annotations=[], value='I need to solve the equation `3x + 11 = 14`. Can you help me?'), type='text')], created_at=1701465354, file_ids=[], metadata={}, object='thread.message', role='user', run_id=None, thread_id='thread_z6vg9PJTEIg5FFOQ3XTjW1mW')]\n",
      "\n",
      "Message 0:\n",
      " I need to solve the equation `3x + 11 = 14`. Can you help me?\n"
     ]
    }
   ],
   "source": [
    "# List messages\n",
    "thread_messages = client.beta.threads.messages.list(thread.id)\n",
    "print(\"\\nRaw thread_messages.data\\n\", thread_messages.data)\n",
    "\n",
    "for idx, message in enumerate(reversed(thread_messages.data)):\n",
    "    print(f\"\\nMessage {idx}:\\n\", message.content[0].text.value)"
   ]
  },
  {
   "cell_type": "code",
   "execution_count": 7,
   "metadata": {},
   "outputs": [
    {
     "name": "stdout",
     "output_type": "stream",
     "text": [
      "Run status:  in_progress\n"
     ]
    }
   ],
   "source": [
    "# Run the assistant\n",
    "run = client.beta.threads.runs.create(\n",
    "  thread_id=thread.id,\n",
    "  assistant_id=assistant.id,\n",
    "  instructions=\"Please address the user as Jane Doe. The user has a premium account.\" # These instructions override the default instructions of the Assistant\n",
    ")\n",
    "\n",
    "# Check the run status. Expected output: in progress OR completed\n",
    "run = client.beta.threads.runs.retrieve(\n",
    "  thread_id=thread.id,\n",
    "  run_id=run.id\n",
    ")\n",
    "print(\"Run status: \", run.status)"
   ]
  },
  {
   "cell_type": "code",
   "execution_count": 9,
   "metadata": {},
   "outputs": [
    {
     "name": "stdout",
     "output_type": "stream",
     "text": [
      "Run status:  completed\n"
     ]
    }
   ],
   "source": [
    "# Check the run status again. Expected output: completed, move on to next step once completed\n",
    "run = client.beta.threads.runs.retrieve(\n",
    "  thread_id=thread.id,\n",
    "  run_id=run.id\n",
    ")\n",
    "print(\"Run status: \", run.status)"
   ]
  },
  {
   "cell_type": "code",
   "execution_count": 10,
   "metadata": {},
   "outputs": [
    {
     "name": "stdout",
     "output_type": "stream",
     "text": [
      "\n",
      "Raw messages:\n",
      " SyncCursorPage[ThreadMessage](data=[ThreadMessage(id='msg_pMSFnyBIS2GcuwWLKgRmYBDh', assistant_id='asst_sm78sQgQCi0LF55h0ufEigwB', content=[MessageContentText(text=Text(annotations=[], value='The solution to the equation \\\\(3x + 11 = 14\\\\) is \\\\(x = 1\\\\).'), type='text')], created_at=1701465369, file_ids=[], metadata={}, object='thread.message', role='assistant', run_id='run_TQhXnWzEs5IU1T8oQIHwI0Pj', thread_id='thread_z6vg9PJTEIg5FFOQ3XTjW1mW'), ThreadMessage(id='msg_rFhLSk6nEVNIJYrVIKIF46Wl', assistant_id=None, content=[MessageContentText(text=Text(annotations=[], value='I need to solve the equation `3x + 11 = 14`. Can you help me?'), type='text')], created_at=1701465354, file_ids=[], metadata={}, object='thread.message', role='user', run_id=None, thread_id='thread_z6vg9PJTEIg5FFOQ3XTjW1mW')], object='list', first_id='msg_pMSFnyBIS2GcuwWLKgRmYBDh', last_id='msg_rFhLSk6nEVNIJYrVIKIF46Wl', has_more=False)\n",
      "\n",
      "Message 0:\n",
      " I need to solve the equation `3x + 11 = 14`. Can you help me?\n",
      "\n",
      "Message 1:\n",
      " The solution to the equation \\(3x + 11 = 14\\) is \\(x = 1\\).\n"
     ]
    }
   ],
   "source": [
    "# Check the messages\n",
    "messages = client.beta.threads.messages.list(\n",
    "  thread_id=thread.id\n",
    ")\n",
    "print(\"\\nRaw messages:\\n\", messages)\n",
    "\n",
    "for idx, message in enumerate(reversed(messages.data)):\n",
    "    print(f\"\\nMessage {idx}:\\n\", message.content[0].text.value)"
   ]
  },
  {
   "cell_type": "markdown",
   "metadata": {},
   "source": [
    "# Assistants API with Retrieval"
   ]
  },
  {
   "cell_type": "code",
   "execution_count": 11,
   "metadata": {},
   "outputs": [],
   "source": [
    "file = client.files.create(\n",
    "  file=open(\"test.txt\", \"rb\"),\n",
    "  purpose='assistants'\n",
    ")"
   ]
  },
  {
   "cell_type": "code",
   "execution_count": 12,
   "metadata": {},
   "outputs": [],
   "source": [
    "# Create an assistant with Retrieval\n",
    "assistant = client.beta.assistants.create(\n",
    "  name=\"Reader\",\n",
    "  description=\"You are great at reading files. You read the .txt files present. You also share a brief text summary of what you observed.\",\n",
    "  model=\"gpt-4-1106-preview\",\n",
    "  tools=[{\"type\": \"code_interpreter\", \"type\": \"retrieval\"}],\n",
    "  file_ids=[file.id]\n",
    ")"
   ]
  },
  {
   "cell_type": "code",
   "execution_count": 13,
   "metadata": {},
   "outputs": [],
   "source": [
    "# Create a thread\n",
    "thread = client.beta.threads.create()"
   ]
  },
  {
   "cell_type": "code",
   "execution_count": 14,
   "metadata": {},
   "outputs": [],
   "source": [
    "# Create a message\n",
    "message = client.beta.threads.messages.create(\n",
    "    thread_id=thread.id,\n",
    "    role=\"user\",\n",
    "    content=\"Give me some summaries of the existing files\"\n",
    ")"
   ]
  },
  {
   "cell_type": "code",
   "execution_count": 15,
   "metadata": {},
   "outputs": [
    {
     "name": "stdout",
     "output_type": "stream",
     "text": [
      "\n",
      "Raw thread_messages.data\n",
      " [ThreadMessage(id='msg_6ZvaU32X0DJ7soRNWrkGPuNE', assistant_id=None, content=[MessageContentText(text=Text(annotations=[], value='Give me some summaries of the existing files'), type='text')], created_at=1701465399, file_ids=[], metadata={}, object='thread.message', role='user', run_id=None, thread_id='thread_pSTrW2TbwnmrOZT3bpuucO7M')]\n",
      "\n",
      "Message 0:\n",
      " Give me some summaries of the existing files\n"
     ]
    }
   ],
   "source": [
    "# List messages\n",
    "thread_messages = client.beta.threads.messages.list(thread.id)\n",
    "print(\"\\nRaw thread_messages.data\\n\", thread_messages.data)\n",
    "\n",
    "for idx, message in enumerate(reversed(thread_messages.data)):\n",
    "    print(f\"\\nMessage {idx}:\\n\", message.content[0].text.value)"
   ]
  },
  {
   "cell_type": "code",
   "execution_count": 16,
   "metadata": {},
   "outputs": [
    {
     "name": "stdout",
     "output_type": "stream",
     "text": [
      "Run status:  in_progress\n"
     ]
    }
   ],
   "source": [
    "# Run the assistant\n",
    "run = client.beta.threads.runs.create(\n",
    "  thread_id=thread.id,\n",
    "  assistant_id=assistant.id,\n",
    ")\n",
    "\n",
    "# Check the run status. Expected output: in progress OR completed\n",
    "run = client.beta.threads.runs.retrieve(\n",
    "  thread_id=thread.id,\n",
    "  run_id=run.id\n",
    ")\n",
    "print(\"Run status: \", run.status)"
   ]
  },
  {
   "cell_type": "code",
   "execution_count": 18,
   "metadata": {},
   "outputs": [
    {
     "name": "stdout",
     "output_type": "stream",
     "text": [
      "Run status:  completed\n",
      "\n",
      "Raw messages:\n",
      " SyncCursorPage[ThreadMessage](data=[ThreadMessage(id='msg_zsVC7e0mRTCPsGQSxIIbMRh9', assistant_id='asst_V4TVeoXG3OLIVGqsRZAwaGT3', content=[MessageContentText(text=Text(annotations=[], value='The existing file named \"test.txt\" contains a short message stating that it\\'s a test file used for Assistants API. Additionally, the author of the file shares a fun fact about themselves, which is that they like grapes. Lastly, they mention that their special number is 100. The visible content of the file is 100% of its total content.'), type='text')], created_at=1701465405, file_ids=[], metadata={}, object='thread.message', role='assistant', run_id='run_G6u29fWcyWZEjEyY9oGWg5fs', thread_id='thread_pSTrW2TbwnmrOZT3bpuucO7M'), ThreadMessage(id='msg_6ZvaU32X0DJ7soRNWrkGPuNE', assistant_id=None, content=[MessageContentText(text=Text(annotations=[], value='Give me some summaries of the existing files'), type='text')], created_at=1701465399, file_ids=[], metadata={}, object='thread.message', role='user', run_id=None, thread_id='thread_pSTrW2TbwnmrOZT3bpuucO7M')], object='list', first_id='msg_zsVC7e0mRTCPsGQSxIIbMRh9', last_id='msg_6ZvaU32X0DJ7soRNWrkGPuNE', has_more=False)\n",
      "\n",
      "Message 0:\n",
      " Give me some summaries of the existing files\n",
      "\n",
      "Message 1:\n",
      " The existing file named \"test.txt\" contains a short message stating that it's a test file used for Assistants API. Additionally, the author of the file shares a fun fact about themselves, which is that they like grapes. Lastly, they mention that their special number is 100. The visible content of the file is 100% of its total content.\n"
     ]
    }
   ],
   "source": [
    "# Check the run status again. Expected output: completed, move on to next step once completed\n",
    "run = client.beta.threads.runs.retrieve(\n",
    "  thread_id=thread.id,\n",
    "  run_id=run.id\n",
    ")\n",
    "print(\"Run status: \", run.status)\n",
    "\n",
    "# Check the messages\n",
    "messages = client.beta.threads.messages.list(\n",
    "  thread_id=thread.id\n",
    ")\n",
    "print(\"\\nRaw messages:\\n\", messages)\n",
    "\n",
    "for idx, message in enumerate(reversed(messages.data)):\n",
    "    print(f\"\\nMessage {idx}:\\n\", message.content[0].text.value)\n",
    "\n",
    "assert(run.status == \"completed\")"
   ]
  },
  {
   "cell_type": "code",
   "execution_count": 19,
   "metadata": {},
   "outputs": [],
   "source": [
    "# Playing around with using an assistant file\n",
    "file_2 = client.files.create(\n",
    "  file=open(\"test_2.txt\", \"rb\"),\n",
    "  purpose='assistants'\n",
    ")"
   ]
  },
  {
   "cell_type": "code",
   "execution_count": 20,
   "metadata": {},
   "outputs": [
    {
     "name": "stdout",
     "output_type": "stream",
     "text": [
      "AssistantFile(id='file-5LFx9bJZS6AF4OhjamP7dJsv', assistant_id='asst_V4TVeoXG3OLIVGqsRZAwaGT3', created_at=1701465443, object='assistant.file')\n"
     ]
    }
   ],
   "source": [
    "# Create the assistant file\n",
    "assistant_file = client.beta.assistants.files.create(\n",
    "  assistant_id=assistant.id, \n",
    "  file_id=file_2.id\n",
    ")\n",
    "print(assistant_file)"
   ]
  },
  {
   "cell_type": "code",
   "execution_count": 21,
   "metadata": {},
   "outputs": [
    {
     "name": "stdout",
     "output_type": "stream",
     "text": [
      "AssistantFile(id='file-5LFx9bJZS6AF4OhjamP7dJsv', assistant_id='asst_V4TVeoXG3OLIVGqsRZAwaGT3', created_at=1701465443, object='assistant.file')\n"
     ]
    }
   ],
   "source": [
    "# Retrieve the assistant file\n",
    "assistant_file = client.beta.assistants.files.retrieve(\n",
    "  assistant_id=assistant.id, \n",
    "  file_id=file_2.id\n",
    ")\n",
    "print(assistant_file)"
   ]
  },
  {
   "cell_type": "code",
   "execution_count": 22,
   "metadata": {},
   "outputs": [
    {
     "name": "stdout",
     "output_type": "stream",
     "text": [
      "# of files:  2\n",
      "SyncCursorPage[AssistantFile](data=[AssistantFile(id='file-5LFx9bJZS6AF4OhjamP7dJsv', assistant_id='asst_V4TVeoXG3OLIVGqsRZAwaGT3', created_at=1701465443, object='assistant.file'), AssistantFile(id='file-jT0CpnGj6YHQlI4KwoCuMePa', assistant_id='asst_V4TVeoXG3OLIVGqsRZAwaGT3', created_at=1701465397, object='assistant.file')], object='list', first_id='file-5LFx9bJZS6AF4OhjamP7dJsv', last_id='file-jT0CpnGj6YHQlI4KwoCuMePa', has_more=False)\n"
     ]
    }
   ],
   "source": [
    "# List assistant files\n",
    "assistant_files = client.beta.assistants.files.list(\n",
    "  assistant_id=assistant.id\n",
    ")\n",
    "print(\"# of files: \", len(assistant_files.data))\n",
    "print(assistant_files)"
   ]
  },
  {
   "cell_type": "code",
   "execution_count": 23,
   "metadata": {},
   "outputs": [],
   "source": [
    "# Upload a file with an \"assistants\" purpose\n",
    "file_3 = client.files.create(\n",
    "  file=open(\"test_3.txt\", \"rb\"),\n",
    "  purpose='assistants'\n",
    ")"
   ]
  },
  {
   "cell_type": "code",
   "execution_count": 24,
   "metadata": {},
   "outputs": [
    {
     "name": "stdout",
     "output_type": "stream",
     "text": [
      "\n",
      "Raw thread_messages.data\n",
      " [ThreadMessage(id='msg_rR2KXE48PIlmRxkMOaInsvY2', assistant_id=None, content=[MessageContentText(text=Text(annotations=[], value='Tell me what the highest special number is based on the information in my files. I just added a new file.'), type='text')], created_at=1701465449, file_ids=['file-eV20bzfKgUk0aWkmQQOK0WyM'], metadata={}, object='thread.message', role='user', run_id=None, thread_id='thread_pSTrW2TbwnmrOZT3bpuucO7M'), ThreadMessage(id='msg_zsVC7e0mRTCPsGQSxIIbMRh9', assistant_id='asst_V4TVeoXG3OLIVGqsRZAwaGT3', content=[MessageContentText(text=Text(annotations=[], value='The existing file named \"test.txt\" contains a short message stating that it\\'s a test file used for Assistants API. Additionally, the author of the file shares a fun fact about themselves, which is that they like grapes. Lastly, they mention that their special number is 100. The visible content of the file is 100% of its total content.'), type='text')], created_at=1701465405, file_ids=[], metadata={}, object='thread.message', role='assistant', run_id='run_G6u29fWcyWZEjEyY9oGWg5fs', thread_id='thread_pSTrW2TbwnmrOZT3bpuucO7M'), ThreadMessage(id='msg_6ZvaU32X0DJ7soRNWrkGPuNE', assistant_id=None, content=[MessageContentText(text=Text(annotations=[], value='Give me some summaries of the existing files'), type='text')], created_at=1701465399, file_ids=[], metadata={}, object='thread.message', role='user', run_id=None, thread_id='thread_pSTrW2TbwnmrOZT3bpuucO7M')]\n",
      "\n",
      "Message 0:\n",
      " Give me some summaries of the existing files\n",
      "\n",
      "Message 1:\n",
      " The existing file named \"test.txt\" contains a short message stating that it's a test file used for Assistants API. Additionally, the author of the file shares a fun fact about themselves, which is that they like grapes. Lastly, they mention that their special number is 100. The visible content of the file is 100% of its total content.\n",
      "\n",
      "Message 2:\n",
      " Tell me what the highest special number is based on the information in my files. I just added a new file.\n"
     ]
    }
   ],
   "source": [
    "# Run the Assistants API trying to retrieve the higher number\n",
    "\n",
    "# Create a message\n",
    "message = client.beta.threads.messages.create(\n",
    "    thread_id=thread.id, # Continue the existing thread\n",
    "    role=\"user\",\n",
    "    content=\"Tell me what the highest special number is based on the information in my files. I just added a new file.\",\n",
    "    file_ids=[file_3.id]\n",
    ")\n",
    "\n",
    "# List messages\n",
    "thread_messages = client.beta.threads.messages.list(thread.id)\n",
    "print(\"\\nRaw thread_messages.data\\n\", thread_messages.data)\n",
    "\n",
    "for idx, message in enumerate(reversed(thread_messages.data)):\n",
    "    print(f\"\\nMessage {idx}:\\n\", message.content[0].text.value)"
   ]
  },
  {
   "cell_type": "code",
   "execution_count": 25,
   "metadata": {},
   "outputs": [
    {
     "name": "stdout",
     "output_type": "stream",
     "text": [
      "Run status:  in_progress\n"
     ]
    }
   ],
   "source": [
    "# Run the assistant\n",
    "run = client.beta.threads.runs.create(\n",
    "  thread_id=thread.id,\n",
    "  assistant_id=assistant.id,\n",
    ")\n",
    "\n",
    "# Check the run status. Expected output: in progress OR completed\n",
    "run = client.beta.threads.runs.retrieve(\n",
    "  thread_id=thread.id,\n",
    "  run_id=run.id\n",
    ")\n",
    "print(\"Run status: \", run.status)"
   ]
  },
  {
   "cell_type": "code",
   "execution_count": 26,
   "metadata": {},
   "outputs": [
    {
     "name": "stdout",
     "output_type": "stream",
     "text": [
      "Run status:  in_progress\n",
      "Run status:  in_progress\n",
      "Run status:  in_progress\n",
      "Run status:  in_progress\n",
      "Run status:  in_progress\n",
      "Run status:  in_progress\n",
      "Run status:  in_progress\n",
      "Run status:  in_progress\n",
      "Run status:  in_progress\n",
      "Run status:  in_progress\n",
      "Run status:  in_progress\n",
      "Run status:  completed\n",
      "\n",
      "Raw messages:\n",
      " SyncCursorPage[ThreadMessage](data=[ThreadMessage(id='msg_QV8UmZThgwemjrikh1jG4EE8', assistant_id='asst_V4TVeoXG3OLIVGqsRZAwaGT3', content=[MessageContentText(text=Text(annotations=[], value='The highest special number based on the information in your files is 250, mentioned in \"test_3.txt\" as the author\\'s special number. For reference, \"test.txt\" mentioned a special number of 100, and \"test_2.txt\" needs to be checked for its special number to confirm, but since you have mentioned that you just added a new file (\"test_3.txt\"), we can assume that 250 is the highest so far, unless \"test_2.txt\" contains a higher number that we have not seen yet. Would you like me to check \"test_2.txt\" as well for completeness?'), type='text')], created_at=1701465472, file_ids=[], metadata={}, object='thread.message', role='assistant', run_id='run_cPXKk9bImAXmdpDTbQWZbfjf', thread_id='thread_pSTrW2TbwnmrOZT3bpuucO7M'), ThreadMessage(id='msg_rR2KXE48PIlmRxkMOaInsvY2', assistant_id=None, content=[MessageContentText(text=Text(annotations=[], value='Tell me what the highest special number is based on the information in my files. I just added a new file.'), type='text')], created_at=1701465449, file_ids=['file-eV20bzfKgUk0aWkmQQOK0WyM'], metadata={}, object='thread.message', role='user', run_id=None, thread_id='thread_pSTrW2TbwnmrOZT3bpuucO7M'), ThreadMessage(id='msg_zsVC7e0mRTCPsGQSxIIbMRh9', assistant_id='asst_V4TVeoXG3OLIVGqsRZAwaGT3', content=[MessageContentText(text=Text(annotations=[], value='The existing file named \"test.txt\" contains a short message stating that it\\'s a test file used for Assistants API. Additionally, the author of the file shares a fun fact about themselves, which is that they like grapes. Lastly, they mention that their special number is 100. The visible content of the file is 100% of its total content.'), type='text')], created_at=1701465405, file_ids=[], metadata={}, object='thread.message', role='assistant', run_id='run_G6u29fWcyWZEjEyY9oGWg5fs', thread_id='thread_pSTrW2TbwnmrOZT3bpuucO7M'), ThreadMessage(id='msg_6ZvaU32X0DJ7soRNWrkGPuNE', assistant_id=None, content=[MessageContentText(text=Text(annotations=[], value='Give me some summaries of the existing files'), type='text')], created_at=1701465399, file_ids=[], metadata={}, object='thread.message', role='user', run_id=None, thread_id='thread_pSTrW2TbwnmrOZT3bpuucO7M')], object='list', first_id='msg_QV8UmZThgwemjrikh1jG4EE8', last_id='msg_6ZvaU32X0DJ7soRNWrkGPuNE', has_more=False)\n",
      "\n",
      "Message 0:\n",
      " Text(annotations=[], value='Give me some summaries of the existing files\\n')\n",
      "\n",
      "Message 1:\n",
      " Text(annotations=[], value='The existing file named \"test.txt\" contains a short message stating that it\\'s a test file used for Assistants API. Additionally, the author of the file shares a fun fact about themselves, which is that they like grapes. Lastly, they mention that their special number is 100. The visible content of the file is 100% of its total content.\\n')\n",
      "\n",
      "Message 2:\n",
      " Text(annotations=[], value='Tell me what the highest special number is based on the information in my files. I just added a new file.\\n')\n",
      "\n",
      "Message 3:\n",
      " Text(annotations=[], value='The highest special number based on the information in your files is 250, mentioned in \"test_3.txt\" as the author\\'s special number. For reference, \"test.txt\" mentioned a special number of 100, and \"test_2.txt\" needs to be checked for its special number to confirm, but since you have mentioned that you just added a new file (\"test_3.txt\"), we can assume that 250 is the highest so far, unless \"test_2.txt\" contains a higher number that we have not seen yet. Would you like me to check \"test_2.txt\" as well for completeness?\\n')\n"
     ]
    }
   ],
   "source": [
    "# Check the run status again. Expected output: completed, move on to next step once completed.\n",
    "# Also added annotations here. # TODO: Current example doesn't use annotations, so improve the sample by increasing the size of the text files to support annotations\n",
    "while run.status == \"in_progress\" or run.status == \"queued\":\n",
    "  run = client.beta.threads.runs.retrieve(\n",
    "    thread_id=thread.id,\n",
    "    run_id=run.id\n",
    "  )\n",
    "  print(\"Run status: \", run.status)\n",
    "  time.sleep(1)\n",
    "\n",
    "# Check the messages\n",
    "messages = client.beta.threads.messages.list(\n",
    "  thread_id=thread.id\n",
    ")\n",
    "print(\"\\nRaw messages:\\n\", messages)\n",
    "\n",
    "for idx, message in enumerate(reversed(messages.data)):\n",
    "    # Adding annotations here\n",
    "\n",
    "    # Extract the message content\n",
    "    message_content = message.content[0].text\n",
    "    annotations = message_content.annotations\n",
    "    citations = []\n",
    "\n",
    "    # Iterate over the annotations and add footnotes\n",
    "    for index, annotation in enumerate(annotations):\n",
    "        # Replace the text with a footnote\n",
    "        message_content.value = message_content.value.replace(annotation.text, f' [{index}]')\n",
    "\n",
    "        # Gather citations based on annotation attributes\n",
    "        if (file_citation := getattr(annotation, 'file_citation', None)):\n",
    "            cited_file = client.files.retrieve(file_citation.file_id)\n",
    "            citations.append(f'[{index}] {file_citation.quote} from {cited_file.filename}')\n",
    "        elif (file_path := getattr(annotation, 'file_path', None)):\n",
    "            cited_file = client.files.retrieve(file_path.file_id)\n",
    "            citations.append(f'[{index}] Click <here> to download {cited_file.filename}')\n",
    "            # Note: File download functionality not implemented above for brevity\n",
    "\n",
    "    # Add footnotes to the end of the message before displaying to user\n",
    "    message_content.value += '\\n' + '\\n'.join(citations)\n",
    "    \n",
    "    print(f\"\\nMessage {idx}:\\n\", message_content)\n",
    "\n",
    "assert(run.status == \"completed\")"
   ]
  },
  {
   "cell_type": "code",
   "execution_count": 27,
   "metadata": {},
   "outputs": [
    {
     "name": "stdout",
     "output_type": "stream",
     "text": [
      "FileDeleteResponse(id='file-5LFx9bJZS6AF4OhjamP7dJsv', deleted=True, object='assistant.file.deleted')\n"
     ]
    }
   ],
   "source": [
    "# Delete an assistant file\n",
    "deleted_assistant_file = client.beta.assistants.files.delete(\n",
    "    assistant_id=assistant.id,\n",
    "    file_id=file_2.id\n",
    ")\n",
    "print(deleted_assistant_file)"
   ]
  },
  {
   "cell_type": "code",
   "execution_count": 28,
   "metadata": {},
   "outputs": [
    {
     "name": "stdout",
     "output_type": "stream",
     "text": [
      "# of files:  1\n",
      "SyncCursorPage[AssistantFile](data=[AssistantFile(id='file-jT0CpnGj6YHQlI4KwoCuMePa', assistant_id='asst_V4TVeoXG3OLIVGqsRZAwaGT3', created_at=1701465397, object='assistant.file')], object='list', first_id='file-jT0CpnGj6YHQlI4KwoCuMePa', last_id='file-jT0CpnGj6YHQlI4KwoCuMePa', has_more=False)\n"
     ]
    }
   ],
   "source": [
    "# List assistant files\n",
    "assistant_files = client.beta.assistants.files.list(\n",
    "  assistant_id=assistant.id\n",
    ")\n",
    "print(\"# of files: \", len(assistant_files.data))\n",
    "print(assistant_files)"
   ]
  },
  {
   "cell_type": "code",
   "execution_count": 29,
   "metadata": {},
   "outputs": [],
   "source": [
    "# Cancelling a run. TODO: Integrate into sample somewhere to demonstrate.\n",
    "# run = client.beta.threads.runs.cancel(thread_id=thread.id, run_id=run.id)\n",
    "# while run.status == \"in_progress\":\n",
    "#     run = client.beta.threads.runs.retrieve(\n",
    "#         thread_id=thread.id,\n",
    "#         run_id=run.id\n",
    "#     )"
   ]
  },
  {
   "cell_type": "markdown",
   "metadata": {},
   "source": [
    "# Assistants API with function calling"
   ]
  },
  {
   "cell_type": "code",
   "execution_count": 30,
   "metadata": {},
   "outputs": [],
   "source": [
    "assistant = client.beta.assistants.create(\n",
    "  instructions=\"You are a weather bot. Use the provided functions to answer questions.\",\n",
    "  model=\"gpt-4-1106-preview\",\n",
    "  tools=[{\n",
    "      \"type\": \"function\",\n",
    "    \"function\": {\n",
    "      \"name\": \"getCurrentWeather()\",\n",
    "      \"description\": \"Get the weather in location\",\n",
    "      \"parameters\": {\n",
    "        \"type\": \"object\",\n",
    "        \"properties\": {\n",
    "          \"location\": {\"type\": \"string\", \"description\": \"The city and state e.g. San Francisco, CA\"},\n",
    "          \"unit\": {\"type\": \"string\", \"enum\": [\"c\", \"f\"]}\n",
    "        },\n",
    "        \"required\": [\"location\"]\n",
    "      }\n",
    "    }\n",
    "  }, {\n",
    "    \"type\": \"function\",\n",
    "    \"function\": {\n",
    "      \"name\": \"getNickname\",\n",
    "      \"description\": \"Get the nickname of a city\",\n",
    "      \"parameters\": {\n",
    "        \"type\": \"object\",\n",
    "        \"properties\": {\n",
    "          \"location\": {\"type\": \"string\", \"description\": \"The city and state e.g. San Francisco, CA\"},\n",
    "        },\n",
    "        \"required\": [\"location\"]\n",
    "      }\n",
    "    } \n",
    "  }]\n",
    ")"
   ]
  },
  {
   "cell_type": "code",
   "execution_count": 31,
   "metadata": {},
   "outputs": [],
   "source": [
    "# Create a thread\n",
    "thread = client.beta.threads.create()\n",
    "\n",
    "# Create a message\n",
    "message = client.beta.threads.messages.create(\n",
    "    thread_id=thread.id,\n",
    "    role=\"user\",\n",
    "    content=\"What's the weather for San Francisco?\",\n",
    ")\n",
    "\n",
    "# Create a run\n",
    "run = client.beta.threads.runs.create(\n",
    "    thread_id=thread.id,\n",
    "    assistant_id=assistant.id,\n",
    ")"
   ]
  },
  {
   "cell_type": "code",
   "execution_count": 37,
   "metadata": {},
   "outputs": [
    {
     "name": "stdout",
     "output_type": "stream",
     "text": [
      "Run status:  requires_action\n"
     ]
    }
   ],
   "source": [
    "# Check the run status. Expected output: in progress OR completed\n",
    "run = client.beta.threads.runs.retrieve(\n",
    "  thread_id=thread.id,\n",
    "  run_id=run.id\n",
    ")\n",
    "print(\"Run status: \", run.status)"
   ]
  },
  {
   "cell_type": "code",
   "execution_count": 33,
   "metadata": {},
   "outputs": [],
   "source": [
    "# Functions hard coded for brevity\n",
    "def getCurrentWeather(location, **kwargs):\n",
    "    return \"It's sunny!\"\n",
    "\n",
    "def getNickname(location):\n",
    "    return \"The city by the bay\"\n",
    "\n",
    "tools = {\n",
    "    'getCurrentWeather': getCurrentWeather,\n",
    "    'getNickname': getNickname\n",
    "}"
   ]
  },
  {
   "cell_type": "code",
   "execution_count": 38,
   "metadata": {},
   "outputs": [
    {
     "name": "stdout",
     "output_type": "stream",
     "text": [
      "tool_outputs\n",
      " [{'tool_call_id': 'call_aeu20uVfjpUhyNSJsMqHFNwW', 'output': \"It's sunny!\"}]\n"
     ]
    }
   ],
   "source": [
    "assert(run.status == \"requires_action\") # Needs to require action before calling tools\n",
    "\n",
    "tool_outputs = []\n",
    "for tool_call in run.required_action.submit_tool_outputs.tool_calls:\n",
    "    tool_id, tool_function, tool_type = tool_call.id, tool_call.function, tool_call.type\n",
    "    args = json.loads(tool_function.arguments)\n",
    "    tool_output = tools[tool_function.name](**args)\n",
    "    tool_outputs.append({\n",
    "        \"tool_call_id\": tool_id,\n",
    "        \"output\": tool_output\n",
    "    })\n",
    "print(\"tool_outputs\\n\", tool_outputs)"
   ]
  },
  {
   "cell_type": "code",
   "execution_count": 39,
   "metadata": {},
   "outputs": [],
   "source": [
    "run = client.beta.threads.runs.submit_tool_outputs(\n",
    "  thread_id=thread.id,\n",
    "  run_id=run.id,\n",
    "  tool_outputs=tool_outputs\n",
    ")"
   ]
  },
  {
   "cell_type": "code",
   "execution_count": 41,
   "metadata": {},
   "outputs": [
    {
     "name": "stdout",
     "output_type": "stream",
     "text": [
      "\n",
      "Raw messages:\n",
      " SyncCursorPage[ThreadMessage](data=[ThreadMessage(id='msg_Qa7jhRGXte0lDoNf8A8kSRYz', assistant_id='asst_f5ccdm7Q3IugSjkacV5OdhX6', content=[MessageContentText(text=Text(annotations=[], value='The current weather in San Francisco, CA is sunny!'), type='text')], created_at=1701465546, file_ids=[], metadata={}, object='thread.message', role='assistant', run_id='run_JX7tkmn6SBAaxJ0Jb4dVoG5v', thread_id='thread_LbSNH8klIj5A2YDGgfAltIbx'), ThreadMessage(id='msg_u4rbcyKOw7hRykOrHx5pwOcb', assistant_id=None, content=[MessageContentText(text=Text(annotations=[], value=\"What's the weather for San Francisco?\"), type='text')], created_at=1701465514, file_ids=[], metadata={}, object='thread.message', role='user', run_id=None, thread_id='thread_LbSNH8klIj5A2YDGgfAltIbx')], object='list', first_id='msg_Qa7jhRGXte0lDoNf8A8kSRYz', last_id='msg_u4rbcyKOw7hRykOrHx5pwOcb', has_more=False)\n",
      "\n",
      "Message 0:\n",
      " What's the weather for San Francisco?\n",
      "\n",
      "Message 1:\n",
      " The current weather in San Francisco, CA is sunny!\n"
     ]
    }
   ],
   "source": [
    "messages = client.beta.threads.messages.list(thread_id=thread.id)\n",
    "\n",
    "print(\"\\nRaw messages:\\n\", messages)\n",
    "\n",
    "for idx, message in enumerate(reversed(messages.data)):\n",
    "    print(f\"\\nMessage {idx}:\\n\", message.content[0].text.value)"
   ]
  },
  {
   "cell_type": "code",
   "execution_count": null,
   "metadata": {},
   "outputs": [],
   "source": [
    "# TODO: Add unit tests and ensure that they're comprehensive to ensure that the API shape between AOAI and OAI are the same. Likely use seed if supported."
   ]
  }
 ],
 "metadata": {
  "kernelspec": {
   "display_name": "Python 3",
   "language": "python",
   "name": "python3"
  },
  "language_info": {
   "codemirror_mode": {
    "name": "ipython",
    "version": 3
   },
   "file_extension": ".py",
   "mimetype": "text/x-python",
   "name": "python",
   "nbconvert_exporter": "python",
   "pygments_lexer": "ipython3",
   "version": "3.11.5"
  }
 },
 "nbformat": 4,
 "nbformat_minor": 2
}
